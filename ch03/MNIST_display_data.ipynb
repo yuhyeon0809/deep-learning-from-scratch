{
 "cells": [
  {
   "cell_type": "markdown",
   "id": "479651be",
   "metadata": {},
   "source": [
    "# MNIST 데이터 표시하기 "
   ]
  },
  {
   "cell_type": "code",
   "execution_count": 1,
   "id": "5f862841",
   "metadata": {},
   "outputs": [],
   "source": [
    "import sys, os\n",
    "sys.path.append(os.pardir)"
   ]
  },
  {
   "cell_type": "code",
   "execution_count": 2,
   "id": "bcbf9a93",
   "metadata": {},
   "outputs": [],
   "source": [
    "import numpy as np\n",
    "from dataset.mnist import load_mnist\n",
    "from PIL import Image # Python Image Library 모듈"
   ]
  },
  {
   "cell_type": "code",
   "execution_count": 3,
   "id": "e19a117a",
   "metadata": {},
   "outputs": [],
   "source": [
    "def img_show(img):\n",
    "    pil_img = Image.fromarray(np.uint8(img)) # numpy로 저장된 이미지를 PIL 객체로 변환\n",
    "    pil_img.show()"
   ]
  },
  {
   "cell_type": "code",
   "execution_count": 4,
   "id": "a17bddfd",
   "metadata": {},
   "outputs": [],
   "source": [
    "(x_train, t_train), (x_test, t_test) = \\\n",
    "    load_mnist(flatten=True, normalize=False) # 1차원 numpy 배열로 저장, 정규화(0.0~1.0) 안함"
   ]
  },
  {
   "cell_type": "code",
   "execution_count": 5,
   "id": "1f7af9c9",
   "metadata": {},
   "outputs": [],
   "source": [
    "img = x_train[0]"
   ]
  },
  {
   "cell_type": "code",
   "execution_count": 6,
   "id": "67368bcd",
   "metadata": {},
   "outputs": [],
   "source": [
    "label = t_train[0]"
   ]
  },
  {
   "cell_type": "code",
   "execution_count": 7,
   "id": "2f16318e",
   "metadata": {},
   "outputs": [
    {
     "name": "stdout",
     "output_type": "stream",
     "text": [
      "5\n"
     ]
    }
   ],
   "source": [
    "print(label)"
   ]
  },
  {
   "cell_type": "code",
   "execution_count": 8,
   "id": "718c61ae",
   "metadata": {},
   "outputs": [
    {
     "name": "stdout",
     "output_type": "stream",
     "text": [
      "(784,)\n"
     ]
    }
   ],
   "source": [
    "print(img.shape)"
   ]
  },
  {
   "cell_type": "code",
   "execution_count": 9,
   "id": "fb80d917",
   "metadata": {},
   "outputs": [],
   "source": [
    "img = img.reshape(28, 28) # 이미지 표시할 떄는 원래 형상으로 변형"
   ]
  },
  {
   "cell_type": "code",
   "execution_count": 10,
   "id": "d635c4a7",
   "metadata": {},
   "outputs": [
    {
     "name": "stdout",
     "output_type": "stream",
     "text": [
      "(28, 28)\n"
     ]
    }
   ],
   "source": [
    "print(img.shape)"
   ]
  },
  {
   "cell_type": "code",
   "execution_count": 12,
   "id": "1a620960",
   "metadata": {},
   "outputs": [],
   "source": [
    "img_show(img)"
   ]
  }
 ],
 "metadata": {
  "kernelspec": {
   "display_name": "Python 3 (ipykernel)",
   "language": "python",
   "name": "python3"
  },
  "language_info": {
   "codemirror_mode": {
    "name": "ipython",
    "version": 3
   },
   "file_extension": ".py",
   "mimetype": "text/x-python",
   "name": "python",
   "nbconvert_exporter": "python",
   "pygments_lexer": "ipython3",
   "version": "3.9.12"
  }
 },
 "nbformat": 4,
 "nbformat_minor": 5
}
